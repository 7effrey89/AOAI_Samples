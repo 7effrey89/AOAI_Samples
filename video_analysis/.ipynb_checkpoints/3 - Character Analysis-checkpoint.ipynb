{
 "cells": [
  {
   "cell_type": "markdown",
   "metadata": {},
   "source": [
    "# 3- Character Analysis"
   ]
  },
  {
   "cell_type": "code",
   "execution_count": null,
   "metadata": {
    "gather": {
     "logged": 1702052712205
    }
   },
   "outputs": [],
   "source": [
    "%pip install --upgrade -r requirements.txt\n",
    "\n",
    "#https://mwouts.github.io/itables/quick_start.html"
   ]
  },
  {
   "cell_type": "code",
   "execution_count": null,
   "metadata": {
    "gather": {
     "logged": 1703767331990
    }
   },
   "outputs": [],
   "source": [
    "import project_path\n",
    "from src import *\n",
    "from src import utils\n",
    "import pandas as pd\n",
    "pd.set_option('display.max_colwidth', 1024)\n",
    "import json\n",
    "from itables import init_notebook_mode, show\n",
    "import itables.options as opt\n",
    "\n",
    "#opt.style=\"table-layout:auto;width:80%;float:left\"\n",
    "CAPABILITY_PREFIX=\"3_\"\n",
    "SEED=42"
   ]
  },
  {
   "cell_type": "code",
   "execution_count": null,
   "metadata": {
    "gather": {
     "logged": 1703767336166
    }
   },
   "outputs": [],
   "source": [
    "## Reading Video Documents from Video Index\n",
    "indexed_videos_df = utils.get_indexed_video_documents()\n",
    "indexed_videos_df"
   ]
  },
  {
   "cell_type": "code",
   "execution_count": null,
   "metadata": {
    "collapsed": false,
    "gather": {
     "logged": 1703767342144
    },
    "jupyter": {
     "outputs_hidden": false,
     "source_hidden": false
    },
    "nteract": {
     "transient": {
      "deleting": false
     }
    }
   },
   "outputs": [],
   "source": [
    "## Just reducing the size of dataframe for testing\n",
    "indexed_videos_df=indexed_videos_df[indexed_videos_df[\"adname\"].isin([\"hSfM1RFU9j4.mp4\",\"AYU4q594LJ0.mp4\",\n",
    "                                                                      \"pEoZbXB78NI.mp4\"])]\n",
    "indexed_videos_df"
   ]
  },
  {
   "cell_type": "code",
   "execution_count": null,
   "metadata": {
    "gather": {
     "logged": 1703767347047
    }
   },
   "outputs": [],
   "source": [
    "## Defining a common System Message for the Video Chat\n",
    "def compose_system_message(row):\n",
    "    return f\"\"\"\n",
    "    Your task is to assist in analyzing and optimizing an advertisement creative asset video from character analysis perspective.\n",
    "    You will be presented with images and transcript from the advertisement video. Find the people, characters and celebrities and emphasize how they interact with the product.\n",
    "    \"\"\""
   ]
  },
  {
   "cell_type": "markdown",
   "metadata": {},
   "source": [
    "## 3.1 How many people are available?"
   ]
  },
  {
   "cell_type": "code",
   "execution_count": null,
   "metadata": {
    "collapsed": false,
    "gather": {
     "logged": 1703767409638
    },
    "jupyter": {
     "outputs_hidden": false,
     "source_hidden": false
    },
    "nteract": {
     "transient": {
      "deleting": false
     }
    }
   },
   "outputs": [],
   "source": [
    "def compose_prompt(row):\n",
    "    return \"\"\"How many people are available?\"\"\"\n",
    "\n",
    "## Calls GPT4V for each element of the dataframe\n",
    "indexed_videos_df[\"RESPONSE\"]=indexed_videos_df.apply(lambda row:utils.call_OpenAI_ChatCompletions_GPT4Video_API(\n",
    "    document_id=row[\"documentId\"],\n",
    "    video_url=row[\"documentUrl\"]+SAS_TOKEN,\n",
    "    prompt=compose_prompt(row),\n",
    "    system_message=compose_system_message(row),\n",
    "    temperature=0.7, \n",
    "    max_tokens=200, \n",
    "    top_p= 0.95,\n",
    "    seed=SEED\n",
    "),axis=1)\n",
    "\n",
    "### Merging the response with main dataframe\n",
    "indexed_videos_df,display_list=utils.merge_df_with_features(indexed_videos_df,\n",
    "                                                            new_feature=f'{CAPABILITY_PREFIX}1_people_count',\n",
    "                                                            display_list=[\"adname\"])\n",
    "\n",
    "utils.pretty_print(indexed_videos_df[display_list])"
   ]
  },
  {
   "cell_type": "markdown",
   "metadata": {},
   "source": [
    "Results:\n",
    "- X\n",
    "  \t\n",
    "\n",
    "Improvement Actions:\n",
    "- X"
   ]
  },
  {
   "cell_type": "markdown",
   "metadata": {},
   "source": [
    "## 3.2 Is there any celebrity?"
   ]
  },
  {
   "cell_type": "code",
   "execution_count": null,
   "metadata": {
    "collapsed": false,
    "gather": {
     "logged": 1702052776133
    },
    "jupyter": {
     "outputs_hidden": false,
     "source_hidden": false
    },
    "nteract": {
     "transient": {
      "deleting": false
     }
    }
   },
   "outputs": [],
   "source": [
    "def compose_prompt(row):\n",
    "    return \"\"\"Is there any celebrity?\"\"\"\n",
    "\n",
    "## Calls GPT4V for each element of the dataframe\n",
    "indexed_videos_df[\"RESPONSE\"]=indexed_videos_df.apply(lambda row:utils.call_OpenAI_ChatCompletions_GPT4Video_API(\n",
    "    document_id=row[\"documentId\"],\n",
    "    video_url=row[\"documentUrl\"]+SAS_TOKEN,\n",
    "    prompt=compose_prompt(row),\n",
    "    chat_history=row['chat_history'],\n",
    "    system_message=compose_system_message(row),\n",
    "    temperature=0.7, \n",
    "    max_tokens=200, \n",
    "    top_p= 0.95,\n",
    "    seed=SEED\n",
    "),axis=1)\n",
    "\n",
    "### Merging the response with main dataframe\n",
    "indexed_videos_df,display_list=utils.merge_df_with_features(indexed_videos_df,new_feature=f'{CAPABILITY_PREFIX}2_is_celebrity',display_list=display_list)\n",
    "\n",
    "utils.pretty_print(indexed_videos_df[display_list])"
   ]
  },
  {
   "cell_type": "markdown",
   "metadata": {},
   "source": [
    "Results:\n",
    "- XXXX\n",
    "\n",
    "Improvement Actions:\n",
    "- XXX"
   ]
  },
  {
   "cell_type": "markdown",
   "metadata": {},
   "source": [
    "## 3.3 Are there graphical characters?"
   ]
  },
  {
   "cell_type": "code",
   "execution_count": null,
   "metadata": {},
   "outputs": [],
   "source": [
    "def compose_prompt(row):\n",
    "    return \"\"\"Are there any graphical, cartoon or gameplay characters?\"\"\"\n",
    "\n",
    "## Calls GPT4V for each element of the dataframe\n",
    "indexed_videos_df[\"RESPONSE\"]=indexed_videos_df.apply(lambda row:utils.call_OpenAI_ChatCompletions_GPT4Video_API(\n",
    "    document_id=row[\"documentId\"],\n",
    "    video_url=row[\"documentUrl\"]+SAS_TOKEN,\n",
    "    prompt=compose_prompt(row),\n",
    "    chat_history=row['chat_history'],\n",
    "    system_message=compose_system_message(row),\n",
    "    temperature=0.7, \n",
    "    max_tokens=100, \n",
    "    top_p= 0.95,\n",
    "    seed=SEED\n",
    "),axis=1)\n",
    "\n",
    "### Merging the response with main dataframe\n",
    "indexed_videos_df,display_list=utils.merge_df_with_features(indexed_videos_df,new_feature=f'{CAPABILITY_PREFIX}3_is_graphical',display_list=display_list)\n",
    "\n",
    "utils.pretty_print(indexed_videos_df[display_list])"
   ]
  },
  {
   "cell_type": "markdown",
   "metadata": {},
   "source": [
    "## 3.4 How diverse are the people?"
   ]
  },
  {
   "cell_type": "code",
   "execution_count": null,
   "metadata": {},
   "outputs": [],
   "source": [
    "def compose_prompt(row):\n",
    "    return \"\"\"How diverse are the real people in the video? Are there people from different races, gender, ethnic backgrounds and ages?\"\"\"\n",
    "\n",
    "## Calls GPT4V for each element of the dataframe\n",
    "indexed_videos_df[\"RESPONSE\"]=indexed_videos_df.apply(lambda row:utils.call_OpenAI_ChatCompletions_GPT4Video_API(\n",
    "    document_id=row[\"documentId\"],\n",
    "    video_url=row[\"documentUrl\"]+SAS_TOKEN,\n",
    "    prompt=compose_prompt(row),\n",
    "    chat_history=row['chat_history'],\n",
    "    system_message=compose_system_message(row),\n",
    "    temperature=0.7, \n",
    "    max_tokens=100, \n",
    "    top_p= 0.95,\n",
    "    seed=SEED\n",
    "),axis=1)\n",
    "\n",
    "### Merging the response with main dataframe\n",
    "indexed_videos_df,display_list=utils.merge_df_with_features(indexed_videos_df,new_feature=f'{CAPABILITY_PREFIX}4_is_diverse',display_list=display_list)\n",
    "\n",
    "utils.pretty_print(indexed_videos_df[display_list])"
   ]
  },
  {
   "cell_type": "markdown",
   "metadata": {},
   "source": [
    "Results:\n",
    "- XXXX\n",
    "\n",
    "Improvement Actions:\n",
    "- XXX"
   ]
  },
  {
   "cell_type": "markdown",
   "metadata": {},
   "source": [
    "## 3.5 How people interact with the product?"
   ]
  },
  {
   "cell_type": "code",
   "execution_count": null,
   "metadata": {},
   "outputs": [],
   "source": [
    "def compose_prompt(row):\n",
    "    return \"\"\"How people interact with the product? Do they use it or apply on themselves?\"\"\"\n",
    "\n",
    "## Calls GPT4V for each element of the dataframe\n",
    "indexed_videos_df[\"RESPONSE\"]=indexed_videos_df.apply(lambda row:utils.call_OpenAI_ChatCompletions_GPT4Video_API(\n",
    "    document_id=row[\"documentId\"],\n",
    "    video_url=row[\"documentUrl\"]+SAS_TOKEN,\n",
    "    prompt=compose_prompt(row),\n",
    "    chat_history=row['chat_history'],\n",
    "    system_message=compose_system_message(row),\n",
    "    temperature=0.7, \n",
    "    max_tokens=100, \n",
    "    top_p= 0.95,\n",
    "    seed=SEED\n",
    "),axis=1)\n",
    "\n",
    "### Merging the response with main dataframe\n",
    "indexed_videos_df,display_list=utils.merge_df_with_features(indexed_videos_df,new_feature=f'{CAPABILITY_PREFIX}5_people_product_interaction',display_list=display_list)\n",
    "\n",
    "utils.pretty_print(indexed_videos_df[display_list])"
   ]
  },
  {
   "cell_type": "markdown",
   "metadata": {},
   "source": [
    "Results:\n",
    "- XXXX\n",
    "\n",
    "Improvement Actions:\n",
    "- XXX"
   ]
  },
  {
   "cell_type": "markdown",
   "metadata": {},
   "source": [
    "## Outputs of Brand Analysis"
   ]
  },
  {
   "cell_type": "code",
   "execution_count": null,
   "metadata": {},
   "outputs": [],
   "source": [
    "ADNAME=\"AYU4q594LJ0.mp4\"\n",
    "\n",
    "indexed_videos_df= indexed_videos_df[[\"documentUrl\"]+display_list]\n",
    "\n",
    "indexed_videos_df.index=indexed_videos_df[\"adname\"]\n",
    "indexed_videos_df[\"advideo\"] = indexed_videos_df.apply(lambda row:utils.get_video_html_tag(os.path.join(VIDEO_DIR,row[\"adname\"])), axis=1)\n",
    "cols = list(indexed_videos_df.columns)\n",
    "\n",
    "a, b = cols.index('advideo'), cols.index('documentUrl')\n",
    "cols[a],cols[b] = cols[b],cols[a]\n",
    "indexed_videos_df = indexed_videos_df[cols]\n",
    "transposed_df=indexed_videos_df.T\n",
    "\n",
    "init_notebook_mode(all_interactive=True)\n",
    "\n",
    "show(transposed_df[[ADNAME]], classes=\"display wrap compact\", paging=False)"
   ]
  },
  {
   "cell_type": "markdown",
   "metadata": {},
   "source": [
    "## Writing Results"
   ]
  },
  {
   "cell_type": "code",
   "execution_count": null,
   "metadata": {
    "gather": {
     "logged": 1702052973892
    }
   },
   "outputs": [],
   "source": [
    "del indexed_videos_df[\"adname\"]\n",
    "\n",
    "indexed_videos_df=indexed_videos_df.reset_index()\n",
    "(\n",
    "    indexed_videos_df[[\"adname\"]+[c for c in indexed_videos_df.columns if c.startswith(CAPABILITY_PREFIX)]]\n",
    "    .to_parquet(REF_DIR+f'/{CAPABILITY_PREFIX}youtube.parquet',compression=None) \n",
    ")"
   ]
  }
 ],
 "metadata": {
  "kernel_info": {
   "name": "python310-sdkv2"
  },
  "kernelspec": {
   "display_name": "Python 3 (ipykernel)",
   "language": "python",
   "name": "python3"
  },
  "language_info": {
   "codemirror_mode": {
    "name": "ipython",
    "version": 3
   },
   "file_extension": ".py",
   "mimetype": "text/x-python",
   "name": "python",
   "nbconvert_exporter": "python",
   "pygments_lexer": "ipython3",
   "version": "3.11.5"
  },
  "microsoft": {
   "host": {
    "AzureML": {
     "notebookHasBeenCompleted": true
    }
   },
   "ms_spell_check": {
    "ms_spell_check_language": "en"
   }
  },
  "nteract": {
   "version": "nteract-front-end@1.0.0"
  }
 },
 "nbformat": 4,
 "nbformat_minor": 4
}
