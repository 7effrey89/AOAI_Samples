{
 "cells": [
  {
   "cell_type": "markdown",
   "metadata": {},
   "source": [
    "# 2 - Brand Analysis"
   ]
  },
  {
   "cell_type": "code",
   "execution_count": null,
   "metadata": {
    "gather": {
     "logged": 1705593177821
    }
   },
   "outputs": [],
   "source": [
    "%pip install --upgrade -r requirements.txt\n",
    "#https://mwouts.github.io/itables/quick_start.html"
   ]
  },
  {
   "cell_type": "code",
   "execution_count": null,
   "metadata": {
    "gather": {
     "logged": 1705593177845
    }
   },
   "outputs": [],
   "source": [
    "import project_path\n",
    "from src import *\n",
    "from src import utils\n",
    "import pandas as pd\n",
    "pd.set_option('display.max_colwidth', 1024)\n",
    "import json\n",
    "from itables import init_notebook_mode, show\n",
    "import itables.options as opt\n",
    "\n",
    "#opt.style=\"table-layout:auto;width:80%;float:left\"\n",
    "CAPABILITY_PREFIX=\"2_\"\n",
    "SEED=42"
   ]
  },
  {
   "cell_type": "code",
   "execution_count": null,
   "metadata": {
    "gather": {
     "logged": 1705593081781
    }
   },
   "outputs": [],
   "source": [
    "## Reading Video Documents from Video Index\n",
    "indexed_videos_df = utils.get_indexed_video_documents()\n",
    "indexed_videos_df"
   ]
  },
  {
   "cell_type": "code",
   "execution_count": null,
   "metadata": {
    "collapsed": false,
    "gather": {
     "logged": 1705593203052
    },
    "jupyter": {
     "outputs_hidden": false,
     "source_hidden": false
    },
    "nteract": {
     "transient": {
      "deleting": false
     }
    }
   },
   "outputs": [],
   "source": [
    "## Just reducing the size of dataframe for testing\n",
    "indexed_videos_df=indexed_videos_df[indexed_videos_df[\"adname\"].isin([\"AYU4q594LJ0.mp4\",\n",
    "                                                                      \"pEoZbXB78NI.mp4\"])]\n",
    "indexed_videos_df"
   ]
  },
  {
   "cell_type": "code",
   "execution_count": null,
   "metadata": {
    "gather": {
     "logged": 1705593177881
    }
   },
   "outputs": [],
   "source": [
    "## Defining a common System Message for the Video Chat\n",
    "def compose_system_message(row):\n",
    "    return f\"\"\"\n",
    "    Your task is to assist in analyzing and optimizing an advertisement creative asset video from product brand analysis perspective.\n",
    "    You will be presented with images and transcript from the advertisement video. Find the mentions of product brands or logos.\n",
    "    \"\"\""
   ]
  },
  {
   "cell_type": "markdown",
   "metadata": {},
   "source": [
    "## 2.1 Is there a brand displayed in the video?"
   ]
  },
  {
   "cell_type": "code",
   "execution_count": null,
   "metadata": {
    "collapsed": false,
    "gather": {
     "logged": 1705593262733
    },
    "jupyter": {
     "outputs_hidden": false,
     "source_hidden": false
    },
    "nteract": {
     "transient": {
      "deleting": false
     }
    }
   },
   "outputs": [],
   "source": [
    "def compose_prompt(row):\n",
    "    return \"\"\"Is there any brand or logo displayed in the video? List all of them.\n",
    "    If there are multiple brands and logos, provide a list of the parent-child relationship between them?\"\"\"\n",
    "\n",
    "## Calls GPT4V for each element of the dataframe\n",
    "indexed_videos_df[\"RESPONSE\"]=indexed_videos_df.apply(lambda row:utils.call_OpenAI_ChatCompletions_GPT4Video_API(\n",
    "    document_id=row[\"documentId\"],\n",
    "    video_url=row[\"documentUrl\"]+SAS_TOKEN,\n",
    "    prompt=compose_prompt(row),\n",
    "    system_message=compose_system_message(row),\n",
    "    temperature=0.7, \n",
    "    max_tokens=200, \n",
    "    top_p= 0.95,\n",
    "    seed=SEED\n",
    "),axis=1)\n",
    "\n",
    "### Merging the response with main dataframe\n",
    "indexed_videos_df,display_list=utils.merge_df_with_features(indexed_videos_df,\n",
    "                                                            new_feature=f'{CAPABILITY_PREFIX}1_is_brand',\n",
    "                                                            display_list=[\"adname\"])\n",
    "\n",
    "utils.pretty_print(indexed_videos_df[display_list])"
   ]
  },
  {
   "cell_type": "markdown",
   "metadata": {},
   "source": [
    "Results:\n",
    "- In AYU4q594LJ0.mp4, we can see that all brands are captured and relationships are recognized, but due to model training cut-off date Microsoft -> Activision Blizzard acquisition is not concluded. It was just recognized all thanks to the title provided as a context in the system message. Timing of Activision Logo capturing is correct, but Xbox logo was the first to be introduced and it stands during the advertisement. \n",
    "  \t\n",
    "\n",
    "Improvement Actions:\n",
    "- An internet search lookup might help acquiring most up-to-date information for parent child relationship."
   ]
  },
  {
   "cell_type": "markdown",
   "metadata": {},
   "source": [
    "## 2.2 How each brand is introduced firstly?"
   ]
  },
  {
   "cell_type": "code",
   "execution_count": null,
   "metadata": {
    "collapsed": false,
    "gather": {
     "logged": 1705593313776
    },
    "jupyter": {
     "outputs_hidden": false,
     "source_hidden": false
    },
    "nteract": {
     "transient": {
      "deleting": false
     }
    }
   },
   "outputs": [],
   "source": [
    "def compose_prompt(row):\n",
    "    return \"\"\"How each brand is introduced firstly?\"\"\"\n",
    "\n",
    "## Calls GPT4V for each element of the dataframe\n",
    "indexed_videos_df[\"RESPONSE\"]=indexed_videos_df.apply(lambda row:utils.call_OpenAI_ChatCompletions_GPT4Video_API(\n",
    "    document_id=row[\"documentId\"],\n",
    "    video_url=row[\"documentUrl\"]+SAS_TOKEN,\n",
    "    prompt=compose_prompt(row),\n",
    "    chat_history=row['chat_history'],\n",
    "    system_message=compose_system_message(row),\n",
    "    temperature=0.7, \n",
    "    max_tokens=200, \n",
    "    top_p= 0.95,\n",
    "    seed=SEED\n",
    "),axis=1)\n",
    "\n",
    "### Merging the response with main dataframe\n",
    "indexed_videos_df,display_list=utils.merge_df_with_features(indexed_videos_df,new_feature=f'{CAPABILITY_PREFIX}2_how_the_brand_introduced',display_list=display_list)\n",
    "\n",
    "utils.pretty_print(indexed_videos_df[display_list])"
   ]
  },
  {
   "cell_type": "markdown",
   "metadata": {},
   "source": [
    "Results:\n",
    "- \tTiming of Activision Logo capturing is correct, but Xbox logo was the first to be introduced and it stands during the advertisement.\n",
    "\n",
    "Improvement Actions:\n",
    "- XXX"
   ]
  },
  {
   "cell_type": "markdown",
   "metadata": {},
   "source": [
    "## 2.3 How many times each brand was mentioned by speakers?"
   ]
  },
  {
   "cell_type": "code",
   "execution_count": null,
   "metadata": {
    "gather": {
     "logged": 1705593418744
    }
   },
   "outputs": [],
   "source": [
    "def compose_prompt(row):\n",
    "    return \"\"\"How many times each brand was mentioned by speakers? List by brand name & mention count.\"\"\"\n",
    "\n",
    "## Calls GPT4V for each element of the dataframe\n",
    "indexed_videos_df[\"RESPONSE\"]=indexed_videos_df.apply(lambda row:utils.call_OpenAI_ChatCompletions_GPT4Video_API(\n",
    "    document_id=row[\"documentId\"],\n",
    "    video_url=row[\"documentUrl\"]+SAS_TOKEN,\n",
    "    prompt=compose_prompt(row),\n",
    "    chat_history=row['chat_history'],\n",
    "    system_message=compose_system_message(row),\n",
    "    temperature=0.7, \n",
    "    max_tokens=100, \n",
    "    top_p= 0.95,\n",
    "    seed=SEED\n",
    "),axis=1)\n",
    "\n",
    "### Merging the response with main dataframe\n",
    "indexed_videos_df,display_list=utils.merge_df_with_features(indexed_videos_df,new_feature=f'{CAPABILITY_PREFIX}3_how_many_times_brand_mentioned',display_list=display_list)\n",
    "\n",
    "utils.pretty_print(indexed_videos_df[display_list])"
   ]
  },
  {
   "cell_type": "markdown",
   "metadata": {},
   "source": [
    "Results:\n",
    "- XXXX\n",
    "\n",
    "Improvement Actions:\n",
    "- XXX"
   ]
  },
  {
   "cell_type": "markdown",
   "metadata": {},
   "source": [
    "# 2.4 Which scenes involve both display and mention of the brand?"
   ]
  },
  {
   "cell_type": "code",
   "execution_count": null,
   "metadata": {
    "gather": {
     "logged": 1705593452747
    }
   },
   "outputs": [],
   "source": [
    "def compose_prompt(row):\n",
    "    return \"\"\"Which scenes involve both display and mention of the brand? List the scenes and timestamp by brand name.\"\"\"\n",
    "\n",
    "## Calls GPT4V for each element of the dataframe\n",
    "indexed_videos_df[\"RESPONSE\"]=indexed_videos_df.apply(lambda row:utils.call_OpenAI_ChatCompletions_GPT4Video_API(\n",
    "    document_id=row[\"documentId\"],\n",
    "    video_url=row[\"documentUrl\"]+SAS_TOKEN,\n",
    "    prompt=compose_prompt(row),\n",
    "    chat_history=row['chat_history'],\n",
    "    system_message=compose_system_message(row),\n",
    "    temperature=0.7, \n",
    "    max_tokens=100, \n",
    "    top_p= 0.95,\n",
    "    seed=SEED\n",
    "),axis=1)\n",
    "\n",
    "### Merging the response with main dataframe\n",
    "indexed_videos_df,display_list=utils.merge_df_with_features(indexed_videos_df,new_feature=f'{CAPABILITY_PREFIX}4_brand_mention_and_display',display_list=display_list)\n",
    "\n",
    "utils.pretty_print(indexed_videos_df[display_list])"
   ]
  },
  {
   "cell_type": "markdown",
   "metadata": {},
   "source": [
    "Results:\n",
    "- XXXX\n",
    "\n",
    "Improvement Actions:\n",
    "- XXX"
   ]
  },
  {
   "cell_type": "markdown",
   "metadata": {},
   "source": [
    "## 2.5 Is there a brand slogan or tagline?"
   ]
  },
  {
   "cell_type": "code",
   "execution_count": null,
   "metadata": {
    "gather": {
     "logged": 1705593488829
    }
   },
   "outputs": [],
   "source": [
    "def compose_prompt(row):\n",
    "    return \"\"\"Is there a brand slogan or tagline?\"\"\"\n",
    "\n",
    "## Calls GPT4V for each element of the dataframe\n",
    "indexed_videos_df[\"RESPONSE\"]=indexed_videos_df.apply(lambda row:utils.call_OpenAI_ChatCompletions_GPT4Video_API(\n",
    "    document_id=row[\"documentId\"],\n",
    "    video_url=row[\"documentUrl\"]+SAS_TOKEN,\n",
    "    prompt=compose_prompt(row),\n",
    "    chat_history=row['chat_history'],\n",
    "    system_message=compose_system_message(row),\n",
    "    temperature=0.7, \n",
    "    max_tokens=100, \n",
    "    top_p= 0.95,\n",
    "    seed=SEED\n",
    "),axis=1)\n",
    "\n",
    "### Merging the response with main dataframe\n",
    "indexed_videos_df,display_list=utils.merge_df_with_features(indexed_videos_df,new_feature=f'{CAPABILITY_PREFIX}5_is_brand_slogan',display_list=display_list)\n",
    "\n",
    "utils.pretty_print(indexed_videos_df[display_list])"
   ]
  },
  {
   "cell_type": "markdown",
   "metadata": {},
   "source": [
    "Results:\n",
    "- XXXX\n",
    "\n",
    "Improvement Actions:\n",
    "- XXX"
   ]
  },
  {
   "cell_type": "markdown",
   "metadata": {},
   "source": [
    "## 2.6 What is the color palette used for each brand?"
   ]
  },
  {
   "cell_type": "code",
   "execution_count": null,
   "metadata": {
    "gather": {
     "logged": 1705593530731
    }
   },
   "outputs": [],
   "source": [
    "def compose_prompt(row):\n",
    "    return \"\"\"What is the color palette used for each brand? List by brand name\"\"\"\n",
    "\n",
    "## Calls GPT4V for each element of the dataframe\n",
    "indexed_videos_df[\"RESPONSE\"]=indexed_videos_df.apply(lambda row:utils.call_OpenAI_ChatCompletions_GPT4Video_API(\n",
    "    document_id=row[\"documentId\"],\n",
    "    video_url=row[\"documentUrl\"]+SAS_TOKEN,\n",
    "    prompt=compose_prompt(row),\n",
    "    chat_history=row['chat_history'],\n",
    "    system_message=compose_system_message(row),\n",
    "    temperature=0.7, \n",
    "    max_tokens=100, \n",
    "    top_p= 0.95,\n",
    "    seed=SEED\n",
    "),axis=1)\n",
    "\n",
    "### Merging the response with main dataframe\n",
    "indexed_videos_df,display_list=utils.merge_df_with_features(indexed_videos_df,new_feature=f'{CAPABILITY_PREFIX}6_brand_color_palette',display_list=display_list)\n",
    "\n",
    "utils.pretty_print(indexed_videos_df[display_list])"
   ]
  },
  {
   "cell_type": "markdown",
   "metadata": {},
   "source": [
    "Results:\n",
    "- XXXX\n",
    "\n",
    "Improvement Actions:\n",
    "- XXX"
   ]
  },
  {
   "cell_type": "markdown",
   "metadata": {},
   "source": [
    "## Outputs of Brand Analysis"
   ]
  },
  {
   "cell_type": "code",
   "execution_count": null,
   "metadata": {
    "gather": {
     "logged": 1705593531211
    }
   },
   "outputs": [],
   "source": [
    "ADNAME=\"AYU4q594LJ0.mp4\"\n",
    "\n",
    "indexed_videos_df= indexed_videos_df[[\"documentUrl\"]+display_list]\n",
    "\n",
    "indexed_videos_df.index=indexed_videos_df[\"adname\"]\n",
    "indexed_videos_df[\"advideo\"] = indexed_videos_df.apply(lambda row:utils.get_video_html_tag(os.path.join(VIDEO_DIR,row[\"adname\"])), axis=1)\n",
    "cols = list(indexed_videos_df.columns)\n",
    "\n",
    "a, b = cols.index('advideo'), cols.index('documentUrl')\n",
    "cols[a],cols[b] = cols[b],cols[a]\n",
    "indexed_videos_df = indexed_videos_df[cols]\n",
    "transposed_df=indexed_videos_df.T\n",
    "\n",
    "init_notebook_mode(all_interactive=True)\n",
    "\n",
    "show(transposed_df[[ADNAME]], classes=\"display wrap compact\", paging=False)"
   ]
  },
  {
   "cell_type": "markdown",
   "metadata": {},
   "source": [
    "## Writing Results"
   ]
  },
  {
   "cell_type": "code",
   "execution_count": null,
   "metadata": {
    "gather": {
     "logged": 1705593531356
    }
   },
   "outputs": [],
   "source": [
    "del indexed_videos_df[\"adname\"]\n",
    "indexed_videos_df=indexed_videos_df.reset_index()\n",
    "(\n",
    "    indexed_videos_df[[\"adname\"]+[c for c in indexed_videos_df.columns if c.startswith(CAPABILITY_PREFIX)]]\n",
    "    .to_parquet(REF_DIR+f'/{CAPABILITY_PREFIX}youtube.parquet',compression=None) \n",
    ")"
   ]
  }
 ],
 "metadata": {
  "kernel_info": {
   "name": "python310-sdkv2"
  },
  "kernelspec": {
   "display_name": "Python 3 (ipykernel)",
   "language": "python",
   "name": "python3"
  },
  "language_info": {
   "codemirror_mode": {
    "name": "ipython",
    "version": 3
   },
   "file_extension": ".py",
   "mimetype": "text/x-python",
   "name": "python",
   "nbconvert_exporter": "python",
   "pygments_lexer": "ipython3",
   "version": "3.11.5"
  },
  "microsoft": {
   "host": {
    "AzureML": {
     "notebookHasBeenCompleted": true
    }
   },
   "ms_spell_check": {
    "ms_spell_check_language": "en"
   }
  },
  "nteract": {
   "version": "nteract-front-end@1.0.0"
  }
 },
 "nbformat": 4,
 "nbformat_minor": 4
}
