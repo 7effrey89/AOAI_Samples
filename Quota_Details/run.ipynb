{
 "cells": [
  {
   "cell_type": "code",
   "execution_count": null,
   "metadata": {},
   "outputs": [],
   "source": [
    "import subprocess\n",
    "import json\n",
    "import pandas as pd\n",
    "lst_df = []\n",
    "for region in ['eastus', 'canadaeast', 'swedencentral', 'australiaeast', 'brazilsouth', 'eastus2', 'francecentral', 'japaneast' ,\n",
    "               'northcentralus', 'norwayeast', 'southafricanorth', 'southcentralus',\n",
    "                'southindia', 'switzerlandnorth', 'switzerlandwest', 'uksouth', 'westeurope', 'westus', 'westus3']:\n",
    "    command = f\"az cognitiveservices usage list --location {region}\"\n",
    "    result = subprocess.run(command, shell=True, check=True, stdout=subprocess.PIPE, stderr=subprocess.PIPE, text=True)\n",
    "    output_str = result.stdout\n",
    "    output_dict = json.loads(output_str)\n",
    "    df = pd.DataFrame(output_dict)\n",
    "    df['region'] = region\n",
    "    df = pd.concat([df.drop(['name'], axis=1), df['name'].apply(pd.Series)], axis=1)\n",
    "    lst_df.append(df[df['localizedValue'].str.contains('Tokens Per Minute', na=False)][['region', 'localizedValue', 'value', 'limit', 'currentValue']])\n",
    "pd.concat(lst_df).sort_values([\"currentValue\"], ascending=False)"
   ]
  }
 ],
 "metadata": {
  "language_info": {
   "name": "python"
  }
 },
 "nbformat": 4,
 "nbformat_minor": 2
}
