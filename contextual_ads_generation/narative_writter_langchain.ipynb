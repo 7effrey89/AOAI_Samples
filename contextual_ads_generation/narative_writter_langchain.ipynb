{
 "cells": [
  {
   "cell_type": "code",
   "execution_count": 2,
   "id": "16c3f349-42f8-478f-968b-80529b7224bd",
   "metadata": {},
   "outputs": [
    {
     "data": {
      "text/plain": [
       "True"
      ]
     },
     "execution_count": 2,
     "metadata": {},
     "output_type": "execute_result"
    }
   ],
   "source": [
    "import os\n",
    "from dotenv import load_dotenv\n",
    "load_dotenv('azure.env')"
   ]
  },
  {
   "cell_type": "code",
   "execution_count": 95,
   "id": "fd5777fa-bb60-4f9b-a133-0bf7468fc2f6",
   "metadata": {},
   "outputs": [],
   "source": [
    "from langchain_openai import AzureChatOpenAI, ChatOpenAI\n",
    "llm = AzureChatOpenAI(api_key = os.environ[\"AZURE_OPENAI_API_KEY\"],  \n",
    "                      api_version=\"2024-07-01-preview\",\n",
    "                      azure_endpoint = os.environ[\"AZURE_OPENAI_ENDPOINT\"],\n",
    "                      azure_deployment= \"gpt-4o\",\n",
    "                      temperature = 1,\n",
    "                      model=\"gpt-4o\",\n",
    "                      streaming=True)"
   ]
  },
  {
   "cell_type": "code",
   "execution_count": 4,
   "id": "ee171eb5-ce84-4650-a70c-4315140cc4c9",
   "metadata": {},
   "outputs": [],
   "source": [
    "import nest_asyncio\n",
    "nest_asyncio.apply()"
   ]
  },
  {
   "cell_type": "code",
   "execution_count": 5,
   "id": "c9ed4587-3b3e-4c30-a98a-0aa1afe56bf5",
   "metadata": {},
   "outputs": [],
   "source": [
    "from langchain_community.tools.bing_search import BingSearchResults\n",
    "from langchain_community.utilities import BingSearchAPIWrapper\n",
    "from langchain_community.tools.playwright.utils import create_async_playwright_browser\n",
    "from langchain_community.agent_toolkits import PlayWrightBrowserToolkit\n",
    "\n",
    "api_wrapper = BingSearchAPIWrapper()\n",
    "tools = [BingSearchResults(api_wrapper = api_wrapper,num_results=10)]"
   ]
  },
  {
   "cell_type": "code",
   "execution_count": null,
   "id": "d9977966-4991-43f5-8bc5-145f76ffc750",
   "metadata": {},
   "outputs": [],
   "source": [
    "async_browser = create_async_playwright_browser(headless=True)\n",
    "toolkit = PlayWrightBrowserToolkit.from_browser(async_browser=async_browser)\n",
    "tools = tools + toolkit.get_tools()"
   ]
  },
  {
   "cell_type": "code",
   "execution_count": 74,
   "id": "a6aa5b7e-4c4c-4a4c-b360-295f4ebd4f0d",
   "metadata": {},
   "outputs": [],
   "source": [
    "from langchain_core.messages import AIMessage, HumanMessage\n",
    "from langchain_core.runnables import Runnable, RunnablePassthrough\n",
    "from langchain_core.prompts.chat import (\n",
    "    BaseMessagePromptTemplate,\n",
    "    ChatPromptTemplate,\n",
    "    HumanMessagePromptTemplate,\n",
    "    MessagesPlaceholder,\n",
    "    SystemMessagePromptTemplate,\n",
    "    PromptTemplate,\n",
    "    ImagePromptTemplate\n",
    ")"
   ]
  },
  {
   "cell_type": "code",
   "execution_count": 150,
   "id": "256e42e7-d971-4976-885c-b99403e9cd08",
   "metadata": {},
   "outputs": [],
   "source": [
    "from langchain.chains.prompt_selector import ConditionalPromptSelector\n",
    "from langchain_core.runnables import RunnableLambda, RunnablePassthrough\n",
    "from langchain.agents.output_parsers.openai_functions import OpenAIFunctionsAgentOutputParser\n",
    "from langchain.agents.output_parsers.openai_tools import OpenAIToolsAgentOutputParser\n",
    "from langchain_core.runnables import RunnableConfig\n",
    "from langchain.callbacks import StreamingStdOutCallbackHandler\n",
    "from langchain.schema.messages import AIMessageChunk\n",
    "from langchain.agents.format_scratchpad.openai_tools import format_to_openai_tool_messages\n",
    "\n",
    "\n",
    "system_prompt = f\"\"\"You are an expert ads creator. You are tasked to add the Sponsored Content ads in between a given blog or website. \n",
    "\\\\ You will be provided a link to the blog. If you are tasked to create the ads about addidas in a personal blog website. \n",
    "\\\\ You first understand the blog and build a narative about the ad you will put in a such a way that it will look natural for the reader. \n",
    "\\\\ Only return the sponsored ad content note more than 2 paragraphs\n",
    "\\\\ Be Creative in your ad , make it more contextual. \n",
    "\\\\ Add Images if provided and return html div\"\"\"\n",
    "\n",
    "system_prompt = \"\"\"You are an expert ads creator specializing in native advertising. Your task is to seamlessly integrate sponsored content ads into existing blog posts or website.\n",
    "\n",
    "** Instructions:\n",
    "\n",
    " - Analyze the provided blog post or website content thoroughly.\n",
    " - Navigate to sponsored ad Link to get more info about the sponsored ad\n",
    " - Craft a narrative for the ad that feels like a natural extension of the blog's content.\n",
    " - Return the sponsored content in an HTML div format.\n",
    "\n",
    "** Guidelines for ad creation:\n",
    "\n",
    " - Match the tone and style of the blog\n",
    " - Ensure the ad is contextually relevant and creative, blending seamlessly with the surrounding content.\n",
    " - Limit the ad to a maximum of two paragraphs.\n",
    " - If images are provided, incorporate them appropriately.\n",
    " - Use language and themes that resonate with the blog's audience\n",
    " - Be subtle in your approach – the ad should not feel intrusive or overly promotional\n",
    "\n",
    "Output format:\n",
    "<div class=\"sponsored-content\">\n",
    "    [Your two-paragraph ad here]\n",
    "    [Include image HTML if provided]\n",
    "</div>\n",
    "Remember to be creative, contextual, and natural in your ad creation to maintain the reader's engagement while effectively promoting the promption link\"\"\"\n",
    "\n",
    "text_prompt = ChatPromptTemplate(input_variables=['agent_scratchpad', 'input'], \n",
    "                            messages=[SystemMessagePromptTemplate(prompt=PromptTemplate(input_variables=[], template=system_prompt)), \n",
    "                                      MessagesPlaceholder(variable_name='chat_history', optional=True), \n",
    "                                      HumanMessagePromptTemplate(prompt=PromptTemplate(input_variables=['input'], template='{input}')), \n",
    "                                      MessagesPlaceholder(variable_name='agent_scratchpad')])\n",
    "\n",
    "\n",
    "image_prompt = ChatPromptTemplate(input_variables=['agent_scratchpad', 'input'],   \n",
    "                                  messages=[SystemMessagePromptTemplate(prompt=PromptTemplate(input_variables=[], template=system_prompt)), \n",
    "                                      MessagesPlaceholder(variable_name='chat_history', optional=True), \n",
    "                                      HumanMessagePromptTemplate(prompt=[PromptTemplate(input_variables=['input'], template='{input}'),\n",
    "                                                                        ImagePromptTemplate(input_variables=['img'], template={'url': '{img}'})]),\n",
    "                                      MessagesPlaceholder(variable_name='agent_scratchpad')])\n",
    "\n",
    "llm_with_tools = llm.bind_tools(\n",
    "    tools=tools\n",
    ")\n",
    "\n",
    "def prompt_router(input):\n",
    "    if input[\"img\"]:\n",
    "        return image_prompt\n",
    "    return text_prompt\n",
    "\n",
    "def print_x(x):\n",
    "    print(x)\n",
    "\n",
    "agent = (\n",
    "    RunnablePassthrough.assign(\n",
    "        agent_scratchpad=lambda x: format_to_openai_tool_messages(\n",
    "            x[\"intermediate_steps\"]\n",
    "        )\n",
    "    )\n",
    "    | RunnableLambda(prompt_router)\n",
    "    | llm_with_tools\n",
    "    | OpenAIToolsAgentOutputParser()\n",
    ")\n",
    "agent_executor = AgentExecutor(agent=agent, tools=tools, verbose=False)"
   ]
  },
  {
   "cell_type": "code",
   "execution_count": 151,
   "id": "7d04a938-a1dc-4255-b755-c5ded204c710",
   "metadata": {},
   "outputs": [],
   "source": [
    "import base64\n",
    "import magic\n",
    "mime = magic.Magic(mime=True)\n",
    "\n",
    "image_path = 'data/chandu_champion.png'\n",
    "with open(image_path, \"rb\") as image_file:\n",
    "    image_base64 = base64.b64encode(image_file.read()).decode('utf-8')"
   ]
  },
  {
   "cell_type": "code",
   "execution_count": 152,
   "id": "69872a4a-8be7-4af6-8e73-d861074b0e6b",
   "metadata": {},
   "outputs": [],
   "source": [
    "prompt=\"\"\"Blog Link: https://trends.glance.com/newz/space/IN/en/feedpost-now/f-cc428ee2a0-cf888ef9-bafb-5676-b323-86be059fc469\n",
    "sponsored ad: https://www.primevideo.com/detail/Chandu-Champion/0MARCAWG5VJK4GIDNLXR1CR0ON\n",
    "\"\"\"\n",
    "input_dict = {\"input\": prompt, \"img\": f\"data:{mime.from_file(image_path)};base64,{image_base64}\", \"chat_history\": []}\n",
    "image_link = \"https://static.tnn.in/thumb/msid-110986320,width-400,height-200,resizemode-75/110986320.jpg?quality=100\"\n",
    "input_dict = {\"input\": prompt, \"img\": None, \"chat_history\": []}"
   ]
  },
  {
   "cell_type": "code",
   "execution_count": 155,
   "id": "5ebf432b-0355-435f-b404-a0c454473aa9",
   "metadata": {},
   "outputs": [
    {
     "name": "stdout",
     "output_type": "stream",
     "text": [
      "```html\n",
      "<div class=\"sponsored-content\">\n",
      "    While exploring the wonders of space through cinema, let's not forget the incredible tales of human spirit and determination that inspire us on Earth as well. One such story is \"Chandu Champion,\" a gripping film about a man who faced numerous challenges with unwavering zeal, ultimately winning India's first individual gold medal in the Olympics. Just like your favorite space epics, this movie offers breathtaking adventures and a profound narrative, making it a must-watch for anyone who loves inspirational stories.\n",
      "    Don't miss out on \"Chandu Champion\" on Prime Video, where you can witness this epic journey of perseverance and triumph. The film promises to captivate you with its historical drama and compelling storytelling, echoing the same sense of awe and inspiration that space movies bring to the big screen.\n",
      "</div>\n",
      "```"
     ]
    }
   ],
   "source": [
    "config = RunnableConfig(callbacks = [StreamingStdOutCallbackHandler()])\n",
    "async for patch in agent_executor.astream_log(input_dict, config = config):\n",
    "    for op in patch.ops:\n",
    "        if op[\"op\"] != \"add\":\n",
    "            continue\n",
    "        value = op[\"value\"]\n",
    "        if not isinstance(value, AIMessageChunk):\n",
    "            continue\n",
    "        if value.content == \"\":\n",
    "            continue\n",
    "        #await msg.stream_token(value.content)"
   ]
  },
  {
   "cell_type": "code",
   "execution_count": 154,
   "id": "798996a6-59e2-4bdf-877b-5439a68b0493",
   "metadata": {},
   "outputs": [
    {
     "data": {
      "text/html": [
       "<div class=\"sponsored-content\">\n",
       "    While you're reliving some of the most awe-inspiring journeys that space movies have to offer, consider diving into a different kind of inspiring story with \"Chandu Champion\" on Prime Video. This gripping film chronicles the incredible tale of Chandu, a man whose undying spirit and perseverance led to India's first individual gold medal in any Olympic event. Just as space movies capture the imagination with tales of bravery beyond our world, \"Chandu Champion\" showcases the valor and tenacity that can achieve the extraordinary here on Earth.\n",
       "\n",
       "    With a stellar cast including Kartik Aaryan, Shreyas Talpade, and Vijay Raaz, and directed by the acclaimed Kabir Khan, this film is a celebration of courage and determination. Whether you're a fan of compelling dramas or inspiring true stories, \"Chandu Champion\" is a must-watch that adds a touch of heroism to your viewing list. Experience it now on Prime Video and let yourself be inspired by the unyielding spirit of Chandu!\n",
       "</div>"
      ],
      "text/plain": [
       "<IPython.core.display.HTML object>"
      ]
     },
     "metadata": {},
     "output_type": "display_data"
    }
   ],
   "source": [
    "from IPython.display import display, HTML\n",
    "display(HTML(value.content))"
   ]
  },
  {
   "cell_type": "code",
   "execution_count": null,
   "id": "a712f98c-e376-465f-b8ca-83dc4e6fc60f",
   "metadata": {},
   "outputs": [],
   "source": []
  },
  {
   "cell_type": "code",
   "execution_count": null,
   "id": "b6e78d66-3cc9-42cb-8879-8171a0a8d076",
   "metadata": {},
   "outputs": [],
   "source": []
  }
 ],
 "metadata": {
  "kernelspec": {
   "display_name": "Python 3 (ipykernel)",
   "language": "python",
   "name": "python3"
  },
  "language_info": {
   "codemirror_mode": {
    "name": "ipython",
    "version": 3
   },
   "file_extension": ".py",
   "mimetype": "text/x-python",
   "name": "python",
   "nbconvert_exporter": "python",
   "pygments_lexer": "ipython3",
   "version": "3.10.12"
  }
 },
 "nbformat": 4,
 "nbformat_minor": 5
}
