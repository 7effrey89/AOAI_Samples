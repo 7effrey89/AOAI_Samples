{
 "cells": [
  {
   "cell_type": "code",
   "execution_count": 3,
   "id": "c007dcc9-c3ee-40e1-be4a-b7a19c8e067a",
   "metadata": {},
   "outputs": [
    {
     "data": {
      "text/plain": [
       "True"
      ]
     },
     "execution_count": 3,
     "metadata": {},
     "output_type": "execute_result"
    }
   ],
   "source": [
    "import os\n",
    "from dotenv import load_dotenv\n",
    "load_dotenv(override=True)"
   ]
  },
  {
   "cell_type": "code",
   "execution_count": 15,
   "id": "3a6f7468-03f9-4ce1-9e81-7fd3db3a3886",
   "metadata": {},
   "outputs": [
    {
     "data": {
      "text/plain": [
       "'https://manoopenaieastus2.openai.azure.com/'"
      ]
     },
     "execution_count": 15,
     "metadata": {},
     "output_type": "execute_result"
    }
   ],
   "source": [
    "os.environ[\"AZURE_OPENAI_ENDPOINT\"]"
   ]
  },
  {
   "cell_type": "code",
   "execution_count": 16,
   "id": "446bab61-507d-4a7b-8b79-39117d417b39",
   "metadata": {},
   "outputs": [
    {
     "data": {
      "text/plain": [
       "'48aadb498dff448596f8efee75359398'"
      ]
     },
     "execution_count": 16,
     "metadata": {},
     "output_type": "execute_result"
    }
   ],
   "source": [
    "os.environ[\"AZURE_OPENAI_API_KEY\"]"
   ]
  },
  {
   "cell_type": "code",
   "execution_count": 2,
   "id": "9f81e1e6",
   "metadata": {},
   "outputs": [
    {
     "name": "stdout",
     "output_type": "stream",
     "text": [
      "2024-10-11 12:13:24 - Loaded .env file\n"
     ]
    }
   ],
   "source": [
    "import json\n",
    "import random\n",
    "import chainlit as cl\n",
    "from datetime import datetime, timedelta"
   ]
  },
  {
   "cell_type": "code",
   "execution_count": 6,
   "id": "60212c29-de79-4b88-a2f7-4cf8e75b453b",
   "metadata": {},
   "outputs": [
    {
     "name": "stdout",
     "output_type": "stream",
     "text": [
      "Before <!DOCTYPE html>\n",
      "<html lang=\"en\">\n",
      "<head>\n",
      "    <meta charset=\"UTF-8\">\n",
      "    <meta name=\"viewport\" content=\"width=device-width, initial-scale=1.0\">\n",
      "    <title>Order Status</title>\n",
      "    <style>\n",
      "        body {\n",
      "            font-family: Arial, sans-serif;\n",
      "            background-color: #f0f8ff;\n",
      "            display: flex;\n",
      "            justify-content: center;\n",
      "            align-items: center;\n",
      "            height: 100vh;\n",
      "            margin: 0;\n",
      "        }\n",
      "        .order-card {\n",
      "            background-color: #ffffff;\n",
      "            border-radius: 15px;\n",
      "            box-shadow: 0 4px 6px rgba(0, 0, 0, 0.1);\n",
      "            padding: 20px;\n",
      "            width: 300px;\n",
      "        }\n",
      "        h1 {\n",
      "            color: #4a90e2;\n",
      "            text-align: center;\n",
      "        }\n",
      "        .info {\n",
      "            margin: 10px 0;\n",
      "        }\n",
      "        .label {\n",
      "            font-weight: bold;\n",
      "            color: #333;\n",
      "        }\n",
      "        .value {\n",
      "            color: #4a90e2;\n",
      "        }\n",
      "        .status {\n",
      "            text-align: center;\n",
      "            font-size: 24px;\n",
      "            font-weight: bold;\n",
      "            color: #ffffff;\n",
      "            background-color: #2ecc71;\n",
      "            padding: 10px;\n",
      "            border-radius: 5px;\n",
      "            margin-top: 20px;\n",
      "        }\n",
      "    </style>\n",
      "</head>\n",
      "<body>\n",
      "    <div class=\"order-card\">\n",
      "        <h1>Order Status</h1>\n",
      "        <div class=\"info\">\n",
      "            <span class=\"label\">Order ID:</span>\n",
      "            <span class=\"value\">{order_id}</span>\n",
      "        </div>\n",
      "        <div class=\"info\">\n",
      "            <span class=\"label\">Customer ID:</span>\n",
      "            <span class=\"value\">{customer_id}</span>\n",
      "        </div>\n",
      "        <div class=\"info\">\n",
      "            <span class=\"label\">Order Date:</span>\n",
      "            <span class=\"value\">{order_date}</span>\n",
      "        </div>\n",
      "        <div class=\"info\">\n",
      "            <span class=\"label\">Expected Arrival:</span>\n",
      "            <span class=\"value\">{estimated_delivery}</span>\n",
      "        </div>          \n",
      "        <div class=\"status\">\n",
      "            {status}\n",
      "        </div>\n",
      "    </div>\n",
      "</body>\n",
      "</html>\n"
     ]
    },
    {
     "ename": "KeyError",
     "evalue": "'\\n            font-family'",
     "output_type": "error",
     "traceback": [
      "\u001b[1;31m---------------------------------------------------------------------------\u001b[0m",
      "\u001b[1;31mKeyError\u001b[0m                                  Traceback (most recent call last)",
      "Cell \u001b[1;32mIn[6], line 22\u001b[0m\n\u001b[0;32m     20\u001b[0m \u001b[38;5;28mprint\u001b[39m(\u001b[38;5;124m\"\u001b[39m\u001b[38;5;124mBefore\u001b[39m\u001b[38;5;124m\"\u001b[39m, html_content)\n\u001b[0;32m     21\u001b[0m \u001b[38;5;66;03m# Replace placeholders with actual data\u001b[39;00m\n\u001b[1;32m---> 22\u001b[0m html_content \u001b[38;5;241m=\u001b[39m html_content\u001b[38;5;241m.\u001b[39mformat(\n\u001b[0;32m     23\u001b[0m     order_id\u001b[38;5;241m=\u001b[39m\u001b[38;5;241m123\u001b[39m,\n\u001b[0;32m     24\u001b[0m     order_date\u001b[38;5;241m=\u001b[39morder_date\u001b[38;5;241m.\u001b[39mstrftime(\u001b[38;5;124m\"\u001b[39m\u001b[38;5;124m%\u001b[39m\u001b[38;5;124mB \u001b[39m\u001b[38;5;132;01m%d\u001b[39;00m\u001b[38;5;124m, \u001b[39m\u001b[38;5;124m%\u001b[39m\u001b[38;5;124mY\u001b[39m\u001b[38;5;124m\"\u001b[39m),\n\u001b[0;32m     25\u001b[0m     status\u001b[38;5;241m=\u001b[39mstatus,\n\u001b[0;32m     26\u001b[0m     estimated_delivery\u001b[38;5;241m=\u001b[39mestimated_delivery\u001b[38;5;241m.\u001b[39mstrftime(\u001b[38;5;124m\"\u001b[39m\u001b[38;5;124m%\u001b[39m\u001b[38;5;124mB \u001b[39m\u001b[38;5;132;01m%d\u001b[39;00m\u001b[38;5;124m, \u001b[39m\u001b[38;5;124m%\u001b[39m\u001b[38;5;124mY\u001b[39m\u001b[38;5;124m\"\u001b[39m),\n\u001b[0;32m     27\u001b[0m     customer_id\u001b[38;5;241m=\u001b[39m\u001b[38;5;241m1232\u001b[39m\n\u001b[0;32m     28\u001b[0m )\n",
      "\u001b[1;31mKeyError\u001b[0m: '\\n            font-family'"
     ]
    }
   ],
   "source": [
    "statuses = [\"Processing\", \"Shipped\", \"Delivered\", \"Cancelled\"]\n",
    "status = random.choice(statuses)\n",
    "\n",
    "# Generate random order details\n",
    "order_date = datetime.now() - timedelta(days=random.randint(1, 10))\n",
    "estimated_delivery = order_date + timedelta(days=random.randint(3, 7))\n",
    "\n",
    "# Define progress for each status\n",
    "progress = {\n",
    "    \"Processing\": 25,\n",
    "    \"Shipped\": 75,\n",
    "    \"Delivered\": 100,\n",
    "    \"Cancelled\": 0\n",
    "}\n",
    "\n",
    "# Read the HTML template\n",
    "with open('order_status_template.html', 'r') as file:\n",
    "    html_content = file.read()\n",
    "\n",
    "print(\"Before\", html_content)\n",
    "# Replace placeholders with actual data\n",
    "html_content = html_content.format(\n",
    "    order_id=123,\n",
    "    order_date=order_date.strftime(\"%B %d, %Y\"),\n",
    "    status=status,\n",
    "    estimated_delivery=estimated_delivery.strftime(\"%B %d, %Y\"),\n",
    "    customer_id=1232\n",
    ")\n",
    "print(\"After\", html_content)"
   ]
  },
  {
   "cell_type": "code",
   "execution_count": null,
   "id": "cdd6e47f-ee5b-44eb-bccd-bc068226e592",
   "metadata": {},
   "outputs": [],
   "source": [
    "client.chat.completions.create(messages = [{\"role\":\"user\",\"content\":\"Hi\"}],\n",
    "                               model = \"gpt-4o-realtime-preview\",\n",
    "                               stream=False)"
   ]
  },
  {
   "cell_type": "code",
   "execution_count": null,
   "id": "0b87a74d-0136-4f0c-894f-5571096173dd",
   "metadata": {},
   "outputs": [],
   "source": []
  }
 ],
 "metadata": {
  "kernelspec": {
   "display_name": "Python 3 (ipykernel)",
   "language": "python",
   "name": "python3"
  },
  "language_info": {
   "codemirror_mode": {
    "name": "ipython",
    "version": 3
   },
   "file_extension": ".py",
   "mimetype": "text/x-python",
   "name": "python",
   "nbconvert_exporter": "python",
   "pygments_lexer": "ipython3",
   "version": "3.11.5"
  }
 },
 "nbformat": 4,
 "nbformat_minor": 5
}
