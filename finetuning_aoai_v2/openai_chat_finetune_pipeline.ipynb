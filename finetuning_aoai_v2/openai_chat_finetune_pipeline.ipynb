{
  "cells": [
    {
      "attachments": {},
      "cell_type": "markdown",
      "metadata": {},
      "source": [
        "# 1. Connect to Azure Machine Learning Registry\n",
        "\n",
        "The [workspace](https://docs.microsoft.com/en-us/azure/machine-learning/concept-workspace) is the top-level resource for Azure Machine Learning, providing a centralized place to work with all the artifacts you create when you use Azure Machine Learning. In this section we will connect to the workspace in which the job will be run.\n",
        "\n",
        "## 1.1 Import the required libraries"
      ]
    },
    {
      "cell_type": "code",
      "execution_count": null,
      "metadata": {
        "jupyter": {
          "outputs_hidden": false,
          "source_hidden": false
        },
        "nteract": {
          "transient": {
            "deleting": false
          }
        }
      },
      "outputs": [],
      "source": [
        "!pip install -U azure-ai-ml"
      ]
    },
    {
      "cell_type": "code",
      "execution_count": 20,
      "metadata": {
        "gather": {
          "logged": 1704618163135
        }
      },
      "outputs": [],
      "source": [
        "# Import required libraries\n",
        "from azure.identity import DefaultAzureCredential, InteractiveBrowserCredential\n",
        "\n",
        "from azure.ai.ml import MLClient, Input, load_component\n",
        "from azure.ai.ml.constants import AssetTypes\n",
        "from azure.ai.ml.dsl import pipeline"
      ]
    },
    {
      "attachments": {},
      "cell_type": "markdown",
      "metadata": {},
      "source": [
        "## 1.2 Configure credential\n",
        "\n",
        "We are using `DefaultAzureCredential` to get access to workspace. \n",
        "`DefaultAzureCredential` should be capable of handling most Azure SDK authentication scenarios. \n",
        "\n",
        "Reference for more available credentials if it does not work for you: [configure credential example](../../configuration.ipynb), [azure-identity reference doc](https://docs.microsoft.com/en-us/python/api/azure-identity/azure.identity?view=azure-python)."
      ]
    },
    {
      "cell_type": "code",
      "execution_count": 21,
      "metadata": {
        "gather": {
          "logged": 1704618165770
        }
      },
      "outputs": [],
      "source": [
        "try:\n",
        "    credential = DefaultAzureCredential()\n",
        "    # Check if given credential can get token successfully.\n",
        "    credential.get_token(\"https://management.azure.com/.default\")\n",
        "except Exception as ex:\n",
        "    # Fall back to InteractiveBrowserCredential in case DefaultAzureCredential not work\n",
        "    credential = InteractiveBrowserCredential()"
      ]
    },
    {
      "attachments": {},
      "cell_type": "markdown",
      "metadata": {},
      "source": [
        "## 1.3 Get a handle to the registry\n",
        "\n",
        "We need to initialize a MlClient pointed to the registry where the OpenAI components are available. [Check this api documentation for more details](https://learn.microsoft.com/en-us/python/api/azure-ai-ml/azure.ai.ml.mlclient?view=azure-python)"
      ]
    },
    {
      "cell_type": "code",
      "execution_count": 22,
      "metadata": {
        "gather": {
          "logged": 1704618169328
        }
      },
      "outputs": [],
      "source": [
        "# Get a handle to registry\n",
        "ml_client = MLClient(\n",
        "    credential=credential, registry_name=\"azureml\", registry_location=\"swedencentral\"\n",
        ")"
      ]
    },
    {
      "attachments": {},
      "cell_type": "markdown",
      "metadata": {},
      "source": [
        "# 2. Define and create components into workspace\n",
        "## 2.1 Load components from registry\n",
        "You need to modify the required params in the yaml files like version, compute uri, etc according to your requirements"
      ]
    },
    {
      "cell_type": "code",
      "execution_count": 23,
      "metadata": {
        "gather": {
          "logged": 1704618172540
        }
      },
      "outputs": [],
      "source": [
        "finetune_pipeline = load_component(\n",
        "    client=ml_client, name=\"openai_completions_finetune_pipeline\", version=\"0.1.2\"\n",
        ")"
      ]
    },
    {
      "attachments": {},
      "cell_type": "markdown",
      "metadata": {},
      "source": [
        "## 2.2 Inspect loaded components"
      ]
    },
    {
      "cell_type": "code",
      "execution_count": 24,
      "metadata": {
        "gather": {
          "logged": 1704618176179
        }
      },
      "outputs": [
        {
          "name": "stdout",
          "output_type": "stream",
          "text": [
            "Pipeline component loaded successfully. Component spec:\n",
            "$schema: http://azureml/sdk-2-0/PipelineComponent.json\n",
            "name: openai_completions_finetune_pipeline\n",
            "version: 0.1.2\n",
            "display_name: OpenAI Completions Finetune Pipeline\n",
            "description: Finetune your own OAI model. Visit https://learn.microsoft.com/en-us/azure/cognitive-services/openai/\n",
            "  for more info.\n",
            "type: pipeline\n",
            "inputs:\n",
            "  train_dataset:\n",
            "    type: uri_folder\n",
            "    description: Input dataset (file or folder). If a folder dataset is passed, includes\n",
            "      all nested files.\n",
            "    optional: false\n",
            "  validation_dataset:\n",
            "    type: uri_folder\n",
            "    description: Input dataset (file or folder). If a folder dataset is passed, includes\n",
            "      all nested files.\n",
            "    optional: true\n",
            "  model:\n",
            "    type: string\n",
            "    optional: false\n",
            "    default: gpt-35-turbo\n",
            "    description: GPT model engine\n",
            "    enum:\n",
            "    - babbage-002\n",
            "    - davinci-002\n",
            "    - gpt-35-turbo\n",
            "    - gpt-4\n",
            "  task_type:\n",
            "    type: string\n",
            "    optional: false\n",
            "    description: Dataset type - chat or completion\n",
            "    enum:\n",
            "    - chat\n",
            "    - completion\n",
            "  registered_model_name:\n",
            "    type: string\n",
            "    optional: false\n",
            "    description: User-defined registered model name\n",
            "  n_epochs:\n",
            "    type: integer\n",
            "    optional: false\n",
            "    default: '-1'\n",
            "    description: Number of training epochs. If set to -1, number of epochs will be\n",
            "      determined dynamically based on the input data.\n",
            "  learning_rate_multiplier:\n",
            "    type: number\n",
            "    optional: false\n",
            "    default: '1.0'\n",
            "    description: The learning rate multiplier to use for training.\n",
            "  batch_size:\n",
            "    type: integer\n",
            "    optional: false\n",
            "    default: '-1'\n",
            "    description: Global batch size. If set to -1, batch size will be determined dynamically\n",
            "      based on the input data.\n",
            "outputs:\n",
            "  output_model:\n",
            "    type: uri_folder\n",
            "    description: Dataset with the output model weights (LoRA weights)\n",
            "is_deterministic: false\n",
            "tags:\n",
            "  contact: gpt3finetuning@microsoft.com\n",
            "creation_context:\n",
            "  created_at: '2023-12-01T23:51:39.656824+00:00'\n",
            "  created_by: Microsoft\n",
            "  created_by_type: User\n",
            "  last_modified_at: '2023-12-01T23:51:39.656824+00:00'\n",
            "  last_modified_by: Microsoft\n",
            "  last_modified_by_type: User\n",
            "id: azureml://registries/azureml/components/openai_completions_finetune_pipeline/versions/0.1.2\n",
            "\n"
          ]
        }
      ],
      "source": [
        "print(\"Pipeline component loaded successfully. Component spec:\")\n",
        "print(finetune_pipeline)"
      ]
    },
    {
      "attachments": {},
      "cell_type": "markdown",
      "metadata": {},
      "source": [
        "# 3. Sample pipeline job\n",
        "## 3.1 Build pipeline\n",
        "\n",
        "There are two types of tasks :\n",
        "\n",
        "1. completion : input dataset should have rows with \"prompt\" and \"completion\" keys\n",
        "2. chat : each row in the input dataset is a conversation represented as a list of json objects where each json object has \"role\" as one of the two values - user, assistant and \"content\" with the utterance"
      ]
    },
    {
      "cell_type": "code",
      "execution_count": 25,
      "metadata": {
        "gather": {
          "logged": 1704618179878
        }
      },
      "outputs": [],
      "source": [
        "TASK_TYPE = \"chat\"  # Change this to completion for completion dataset\n",
        "\n",
        "\n",
        "# Construct pipeline\n",
        "@pipeline()\n",
        "def pipeline_with_registered_component(\n",
        "    train_dataset,\n",
        "    validation_dataset,\n",
        "    training_max_epochs=20,\n",
        "    model=\"gpt-35-turbo\",\n",
        "    registered_model_name=\"sdk-test-turbo-chat-1\",\n",
        "    learning_rate_multiplier=1,\n",
        "    batch_size=-1,\n",
        "    task_type=\"chat\",\n",
        "):\n",
        "    openai_completions_finetune_component_results = finetune_pipeline(\n",
        "        train_dataset=train_dataset,\n",
        "        validation_dataset=validation_dataset,\n",
        "        n_epochs=training_max_epochs,\n",
        "        model=model,\n",
        "        task_type=task_type,\n",
        "        registered_model_name=registered_model_name,\n",
        "        learning_rate_multiplier=learning_rate_multiplier,\n",
        "        batch_size=batch_size,\n",
        "    )\n",
        "\n",
        "    return openai_completions_finetune_component_results\n",
        "\n",
        "\n",
        "pipeline_job = pipeline_with_registered_component(\n",
        "    train_dataset=Input(type=AssetTypes.URI_FOLDER, path=\"./data/\"),\n",
        "    validation_dataset=Input(type=AssetTypes.URI_FOLDER, path=\"./data/\"),\n",
        "    training_max_epochs=1,\n",
        "    model=\"gpt-35-turbo\",  # Select any model from [\"babbage-002\", \"davinci-002\", \"gpt-35-turbo\"]\n",
        "    task_type=TASK_TYPE,\n",
        "    registered_model_name=\"sdk-test-turbo-chat-1\",\n",
        "    learning_rate_multiplier=1,\n",
        "    batch_size=-1,\n",
        ")\n",
        "\n",
        "# set pipeline level compute\n",
        "pipeline_job.settings.default_compute = \"serverless\""
      ]
    },
    {
      "attachments": {},
      "cell_type": "markdown",
      "metadata": {},
      "source": [
        "## 3.2 Configure workspace details and get a handle to the workspace\n",
        "\n",
        "To connect to a workspace, we need identifier parameters - a subscription, resource group and workspace name. We will use these details in the `MLClient` from `azure.ai.ml` to get a handle to the required Azure Machine Learning workspace. We use the default [default azure authentication](https://docs.microsoft.com/en-us/python/api/azure-identity/azure.identity.defaultazurecredential?view=azure-python) for this tutorial. Check the [configuration notebook](https://github.com/Azure/azureml-examples/blob/6142c51451561447befa665e8dd6fb3ff80bdb62/sdk/python/jobs/configuration.ipynb) for more details on how to configure credentials and connect to a workspace."
      ]
    },
    {
      "cell_type": "code",
      "execution_count": 26,
      "metadata": {
        "gather": {
          "logged": 1704618185114
        }
      },
      "outputs": [
        {
          "name": "stderr",
          "output_type": "stream",
          "text": [
            "Found the config file in: /config.json\n"
          ]
        }
      ],
      "source": [
        "# Get a handle to workspace\n",
        "ml_client = None\n",
        "try:\n",
        "    ml_client = MLClient.from_config(credential)\n",
        "except Exception as ex:\n",
        "    print(ex)\n",
        "    # Enter details of your AML workspace\n",
        "    subscription_id = \"\"\n",
        "    resource_group = \"\"\n",
        "    workspace_name = \"\"\n",
        "\n",
        "    ml_client = MLClient(credential, subscription_id, resource_group, workspace_name)"
      ]
    },
    {
      "attachments": {},
      "cell_type": "markdown",
      "metadata": {},
      "source": [
        "## 3.3 Submit pipeline job"
      ]
    },
    {
      "cell_type": "code",
      "execution_count": 27,
      "metadata": {
        "gather": {
          "logged": 1704618198418
        }
      },
      "outputs": [
        {
          "data": {
            "text/html": [
              "<table style=\"width:100%\"><tr><th>Experiment</th><th>Name</th><th>Type</th><th>Status</th><th>Details Page</th></tr><tr><td>chat_pipeline_test</td><td>sad_rice_1mcwxfq8wm</td><td>pipeline</td><td>Preparing</td><td><a href=\"https://ml.azure.com/runs/sad_rice_1mcwxfq8wm?wsid=/subscriptions/f17b9f1d-4088-479a-acb6-6dbf870ca4dc/resourcegroups/openai-sweden/workspaces/aml-dev-sweden&amp;tid=16b3c013-d300-468d-ac64-7eda0820b6d3\" target=\"_blank\" rel=\"noopener\">Link to Azure Machine Learning studio</a></td></tr></table>"
            ],
            "text/plain": [
              "PipelineJob({'inputs': {'train_dataset': <azure.ai.ml.entities._job.pipeline._io.base.PipelineInput object at 0x7fcc44e0b6a0>, 'validation_dataset': <azure.ai.ml.entities._job.pipeline._io.base.PipelineInput object at 0x7fcc44e09840>, 'training_max_epochs': <azure.ai.ml.entities._job.pipeline._io.base.PipelineInput object at 0x7fcc44e09b70>, 'model': <azure.ai.ml.entities._job.pipeline._io.base.PipelineInput object at 0x7fcc44e09390>, 'registered_model_name': <azure.ai.ml.entities._job.pipeline._io.base.PipelineInput object at 0x7fcc44e09b40>, 'learning_rate_multiplier': <azure.ai.ml.entities._job.pipeline._io.base.PipelineInput object at 0x7fcc44e0ae30>, 'batch_size': <azure.ai.ml.entities._job.pipeline._io.base.PipelineInput object at 0x7fcc44e08580>, 'task_type': <azure.ai.ml.entities._job.pipeline._io.base.PipelineInput object at 0x7fcc44e0a0e0>}, 'outputs': {}, 'jobs': {}, 'component': PipelineComponent({'intellectual_property': None, 'auto_increment_version': False, 'source': 'REMOTE.WORKSPACE.JOB', 'is_anonymous': True, 'auto_delete_setting': None, 'name': 'azureml_anonymous', 'description': None, 'tags': {}, 'properties': {}, 'print_as_yaml': True, 'id': None, 'Resource__source_path': None, 'base_path': '/mnt/batch/tasks/shared/LS_root/mounts/clusters/mrajguru3/code/Users/mrajguru/oai-v2', 'creation_context': None, 'serialize': <msrest.serialization.Serializer object at 0x7fcc44e09c00>, 'version': '1', 'latest_version': None, 'schema': None, 'type': 'pipeline', 'display_name': 'pipeline_with_registered_component', 'is_deterministic': None, 'inputs': {'train_dataset': {}, 'validation_dataset': {}, 'training_max_epochs': {}, 'model': {}, 'registered_model_name': {}, 'learning_rate_multiplier': {}, 'batch_size': {}, 'task_type': {}}, 'outputs': {}, 'yaml_str': None, 'other_parameter': {}, 'jobs': {'openai_completions_finetune_component_results': Pipeline({'init': False, 'name': 'openai_completions_finetune_component_results', 'type': 'pipeline', 'status': None, 'log_files': None, 'description': None, 'tags': {}, 'properties': {}, 'print_as_yaml': True, 'id': None, 'Resource__source_path': None, 'base_path': '/mnt/batch/tasks/shared/LS_root/mounts/clusters/mrajguru3/code/Users/mrajguru/oai-v2', 'creation_context': None, 'serialize': <msrest.serialization.Serializer object at 0x7fcc22d31270>, 'allowed_keys': {}, 'key_restriction': False, 'logger': <Logger attr_dict (WARNING)>, 'display_name': None, 'experiment_name': None, 'compute': None, 'services': None, 'comment': None, 'job_inputs': {'train_dataset': '${{parent.inputs.train_dataset}}', 'validation_dataset': '${{parent.inputs.validation_dataset}}', 'model': '${{parent.inputs.model}}', 'task_type': '${{parent.inputs.task_type}}', 'registered_model_name': '${{parent.inputs.registered_model_name}}', 'n_epochs': '${{parent.inputs.training_max_epochs}}', 'learning_rate_multiplier': '${{parent.inputs.learning_rate_multiplier}}', 'batch_size': '${{parent.inputs.batch_size}}'}, 'job_outputs': {}, 'inputs': {'train_dataset': <azure.ai.ml.entities._job.pipeline._io.base.NodeInput object at 0x7fcc22d33ac0>, 'validation_dataset': <azure.ai.ml.entities._job.pipeline._io.base.NodeInput object at 0x7fcc22d32f50>, 'model': <azure.ai.ml.entities._job.pipeline._io.base.NodeInput object at 0x7fcc22d33040>, 'task_type': <azure.ai.ml.entities._job.pipeline._io.base.NodeInput object at 0x7fcc22d33df0>, 'registered_model_name': <azure.ai.ml.entities._job.pipeline._io.base.NodeInput object at 0x7fcc22d31480>, 'n_epochs': <azure.ai.ml.entities._job.pipeline._io.base.NodeInput object at 0x7fcc44e08d00>, 'learning_rate_multiplier': <azure.ai.ml.entities._job.pipeline._io.base.NodeInput object at 0x7fcc44e09c30>, 'batch_size': <azure.ai.ml.entities._job.pipeline._io.base.NodeInput object at 0x7fcc44e0bd30>}, 'outputs': {}, 'component': 'azureml://registries/azureml/components/openai_completions_finetune_pipeline/versions/0.1.2', 'referenced_control_flow_node_instance_id': None, 'kwargs': {}, 'instance_id': '635ed7dd-84db-43e8-84a1-3e0a0f333aa4', 'source': 'REMOTE.REGISTRY', 'validate_required_input_not_provided': True, 'settings': None})}, 'job_types': {'pipeline': 1}, 'job_sources': {'REMOTE.REGISTRY': 1}, 'source_job_id': None}), 'type': 'pipeline', 'status': 'Preparing', 'log_files': None, 'name': 'sad_rice_1mcwxfq8wm', 'description': None, 'tags': {}, 'properties': {'azureml.DevPlatv2': 'true', 'azureml.DatasetAccessMode': 'Asset', 'azureml.runsource': 'azureml.PipelineRun', 'runSource': 'MFE', 'runType': 'HTTP', 'azureml.parameters': '{\"training_max_epochs\":\"1\",\"model\":\"gpt-35-turbo\",\"registered_model_name\":\"sdk-test-turbo-chat-1\",\"learning_rate_multiplier\":\"1\",\"batch_size\":\"-1\",\"task_type\":\"chat\"}', 'azureml.continue_on_step_failure': 'True', 'azureml.continue_on_failed_optional_input': 'True', 'azureml.enforceRerun': 'False', 'azureml.defaultComputeName': 'serverless', 'azureml.defaultDataStoreName': 'workspaceblobstore', 'azureml.pipelineComponent': 'pipelinerun'}, 'print_as_yaml': True, 'id': '/subscriptions/f17b9f1d-4088-479a-acb6-6dbf870ca4dc/resourceGroups/openai-sweden/providers/Microsoft.MachineLearningServices/workspaces/aml-dev-sweden/jobs/sad_rice_1mcwxfq8wm', 'Resource__source_path': None, 'base_path': '/mnt/batch/tasks/shared/LS_root/mounts/clusters/mrajguru3/code/Users/mrajguru/oai-v2', 'creation_context': <azure.ai.ml.entities._system_data.SystemData object at 0x7fcc44e090f0>, 'serialize': <msrest.serialization.Serializer object at 0x7fcc44e09180>, 'display_name': 'pipeline_with_registered_component', 'experiment_name': 'chat_pipeline_test', 'compute': None, 'services': {'Tracking': {'endpoint': 'azureml://swedencentral.api.azureml.ms/mlflow/v1.0/subscriptions/f17b9f1d-4088-479a-acb6-6dbf870ca4dc/resourceGroups/openai-sweden/providers/Microsoft.MachineLearningServices/workspaces/aml-dev-sweden?', 'type': 'Tracking'}, 'Studio': {'endpoint': 'https://ml.azure.com/runs/sad_rice_1mcwxfq8wm?wsid=/subscriptions/f17b9f1d-4088-479a-acb6-6dbf870ca4dc/resourcegroups/openai-sweden/workspaces/aml-dev-sweden&tid=16b3c013-d300-468d-ac64-7eda0820b6d3', 'type': 'Studio'}}, 'settings': {}, 'identity': None, 'default_code': None, 'default_environment': None})"
            ]
          },
          "execution_count": 27,
          "metadata": {},
          "output_type": "execute_result"
        }
      ],
      "source": [
        "# Submit pipeline job to workspace\n",
        "pipeline_job = ml_client.jobs.create_or_update(\n",
        "    pipeline_job, experiment_name=\"chat_pipeline_test\"\n",
        ")\n",
        "pipeline_job"
      ]
    },
    {
      "cell_type": "code",
      "execution_count": 28,
      "metadata": {
        "gather": {
          "logged": 1704620509881
        }
      },
      "outputs": [
        {
          "name": "stdout",
          "output_type": "stream",
          "text": [
            "RunId: sad_rice_1mcwxfq8wm\n",
            "Web View: https://ml.azure.com/runs/sad_rice_1mcwxfq8wm?wsid=/subscriptions/f17b9f1d-4088-479a-acb6-6dbf870ca4dc/resourcegroups/openai-sweden/workspaces/aml-dev-sweden\n",
            "\n",
            "Streaming logs/azureml/executionlogs.txt\n",
            "========================================\n",
            "\n",
            "[2024-01-07 09:03:19Z] Submitting 1 runs, first five are: c71fa878:084304b7-a699-44d0-82ba-0af63b0b5f49\n",
            "[2024-01-07 09:41:14Z] Completing processing run id 084304b7-a699-44d0-82ba-0af63b0b5f49.\n",
            "\n",
            "Execution Summary\n",
            "=================\n",
            "RunId: sad_rice_1mcwxfq8wm\n",
            "Web View: https://ml.azure.com/runs/sad_rice_1mcwxfq8wm?wsid=/subscriptions/f17b9f1d-4088-479a-acb6-6dbf870ca4dc/resourcegroups/openai-sweden/workspaces/aml-dev-sweden\n",
            "\n"
          ]
        }
      ],
      "source": [
        "# Wait until the job completes\n",
        "ml_client.jobs.stream(pipeline_job.name)"
      ]
    },
    {
      "cell_type": "code",
      "execution_count": 46,
      "metadata": {
        "gather": {
          "logged": 1704628699117
        },
        "jupyter": {
          "outputs_hidden": false,
          "source_hidden": false
        },
        "nteract": {
          "transient": {
            "deleting": false
          }
        }
      },
      "outputs": [
        {
          "name": "stdout",
          "output_type": "stream",
          "text": [
            "sdk-test-turbo-chat-1\n",
            "1\n"
          ]
        }
      ],
      "source": [
        "models = ml_client.models.list(name = 'sdk-test-turbo-chat-1')\n",
        "for model in models:\n",
        "    print(model.name)\n",
        "    print(model.version)"
      ]
    },
    {
      "cell_type": "code",
      "execution_count": 40,
      "metadata": {
        "gather": {
          "logged": 1704622327544
        },
        "jupyter": {
          "outputs_hidden": false,
          "source_hidden": false
        },
        "nteract": {
          "transient": {
            "deleting": false
          }
        }
      },
      "outputs": [],
      "source": [
        "import requests\n",
        "import json\n",
        "import subprocess\n",
        "\n",
        "# 1. Add your Azure OpenAI account details\n",
        "subscription = \"\"\n",
        "resource_group = \"\"\n",
        "resource_name = \"\" #openai resource name\n",
        "model_deployment_name = \"\"\n",
        "\n",
        "# 2. Add the AzureML registered model name, registered model version, and the AzureML (AML) workspace path for your fine-tuned model.\n",
        "# Your registered models data can be found in the `Models` tab of your AzureML workspace.\n",
        "registered_model_name = \"sdk-test-turbo-chat-1\"\n",
        "registered_model_version = \"1\"\n",
        "workspace_path = f\"/subscriptions/{subscription}/resourcegroups/{resource_group}/providers/Microsoft.MachineLearningServices/workspaces/{workspace_name}\""
      ]
    },
    {
      "cell_type": "code",
      "execution_count": 41,
      "metadata": {
        "gather": {
          "logged": 1704622328856
        },
        "jupyter": {
          "outputs_hidden": false,
          "source_hidden": false
        },
        "nteract": {
          "transient": {
            "deleting": false
          }
        }
      },
      "outputs": [],
      "source": [
        "from azure.identity import DefaultAzureCredential, InteractiveBrowserCredential\n",
        "\n",
        "try:\n",
        "    credential = DefaultAzureCredential()\n",
        "    # Check if given credential can get token successfully.\n",
        "    access_token = credential.get_token(\"https://management.azure.com/.default\")\n",
        "    token = access_token.token\n",
        "except Exception as ex:\n",
        "    # Fall back to InteractiveBrowserCredential in case DefaultAzureCredential not work\n",
        "    # This will open a browser page for\n",
        "    credential = InteractiveBrowserCredential()"
      ]
    },
    {
      "cell_type": "code",
      "execution_count": 42,
      "metadata": {
        "gather": {
          "logged": 1704622332104
        },
        "jupyter": {
          "outputs_hidden": false,
          "source_hidden": false
        },
        "nteract": {
          "transient": {
            "deleting": false
          }
        }
      },
      "outputs": [],
      "source": [
        "deploy_params = {\"api-version\": \"2023-05-01\"}\n",
        "deploy_headers = {\n",
        "    \"Authorization\": f\"Bearer {token}\",\n",
        "    \"Content-Type\": \"application/json\",\n",
        "}\n",
        "\n",
        "# 4. Set model deployment configuration. Here capacity refers to support for `1K Tokens Per Minute (TPM)` for your deployment.\n",
        "deploy_data = {\n",
        "    \"sku\": {\"name\": \"Standard\", \"capacity\": 1},\n",
        "    \"properties\": {\n",
        "        \"model\": {\n",
        "            \"format\": \"OpenAI\",\n",
        "            \"name\": f\"{registered_model_name}\",\n",
        "            \"version\": f\"{registered_model_version}\",\n",
        "            \"source\": f\"{workspace_path}\",\n",
        "        }\n",
        "    },\n",
        "}\n",
        "\n",
        "deploy_data = json.dumps(deploy_data)"
      ]
    },
    {
      "cell_type": "code",
      "execution_count": 43,
      "metadata": {
        "gather": {
          "logged": 1704622340468
        },
        "jupyter": {
          "outputs_hidden": false,
          "source_hidden": false
        },
        "nteract": {
          "transient": {
            "deleting": false
          }
        }
      },
      "outputs": [
        {
          "name": "stdout",
          "output_type": "stream",
          "text": [
            "{'id': '/subscriptions/f17b9f1d-4088-479a-acb6-6dbf870ca4dc/resourceGroups/openai-sweden/providers/Microsoft.CognitiveServices/accounts/monuminu/deployments/finetuned', 'type': 'Microsoft.CognitiveServices/accounts/deployments', 'name': 'finetuned', 'sku': {'name': 'Standard', 'capacity': 1}, 'properties': {'model': {'format': 'OpenAI', 'name': 'sdk-test-turbo-chat-1', 'version': '1', 'source': '/subscriptions/f17b9f1d-4088-479a-acb6-6dbf870ca4dc/resourcegroups/openai-sweden/providers/Microsoft.MachineLearningServices/workspaces/aml-dev-sweden'}, 'versionUpgradeOption': 'NoAutoUpgrade', 'capabilities': {'chatCompletion': 'true'}, 'provisioningState': 'Creating', 'rateLimits': [{'key': 'request', 'renewalPeriod': 10, 'count': 1}, {'key': 'token', 'renewalPeriod': 60, 'count': 1000}]}, 'systemData': {'createdBy': 'mrajguru@microsoft.com', 'createdByType': 'User', 'createdAt': '2024-01-07T10:12:13.0963979Z', 'lastModifiedBy': 'mrajguru@microsoft.com', 'lastModifiedByType': 'User', 'lastModifiedAt': '2024-01-07T10:12:13.0963979Z'}, 'etag': '\"4493db00-8776-4b20-93d4-57d9ca9df583\"'}\n"
          ]
        }
      ],
      "source": [
        "# 5. Send PUT request to Azure cognitive services to create model deployment\n",
        "request_url = f\"https://management.azure.com/subscriptions/{subscription}/resourceGroups/{resource_group}/providers/Microsoft.CognitiveServices/accounts/{resource_name}/deployments/{model_deployment_name}\"\n",
        "\n",
        "r = requests.put(\n",
        "    request_url, \n",
        "    params=deploy_params, \n",
        "    headers=deploy_headers, \n",
        "    data=deploy_data\n",
        ")\n",
        "\n",
        "print(r.json())\n",
        "\n",
        "# 6. View Your model deployment status in Azure OpenAI Studio portal\n",
        "# Visit [https://oai.azure.com/portal/](https://oai.azure.com/portal/) to view your model deployments.\n",
        "\n",
        "# 7. After your deployment succeeds, use Azure OpenAI chat playground to test your Deployment\n"
      ]
    },
    {
      "cell_type": "code",
      "execution_count": null,
      "metadata": {
        "jupyter": {
          "outputs_hidden": false,
          "source_hidden": false
        },
        "nteract": {
          "transient": {
            "deleting": false
          }
        }
      },
      "outputs": [],
      "source": [
        "# 6. Send DELETE request to Azure cognitive services to delete model deployment\n",
        "request_url = f\"https://management.azure.com//subscriptions/{subscription}/resourceGroups/{resource_group}/providers/Microsoft.CognitiveServices/accounts/{resource_name}/deployments/{model_deployment_name}\"\n",
        "r = requests.delete(\n",
        "    request_url, \n",
        "    params=deploy_params, \n",
        "    headers=deploy_headers\n",
        ")\n",
        "print(r.json())"
      ]
    }
  ],
  "metadata": {
    "kernel_info": {
      "name": "python310-sdkv2"
    },
    "kernelspec": {
      "display_name": "Python 3.10 - SDK v2",
      "language": "python",
      "name": "python310-sdkv2"
    },
    "language_info": {
      "codemirror_mode": {
        "name": "ipython",
        "version": 3
      },
      "file_extension": ".py",
      "mimetype": "text/x-python",
      "name": "python",
      "nbconvert_exporter": "python",
      "pygments_lexer": "ipython3",
      "version": "3.10.11"
    },
    "microsoft": {
      "host": {
        "AzureML": {
          "notebookHasBeenCompleted": true
        }
      },
      "ms_spell_check": {
        "ms_spell_check_language": "en"
      }
    },
    "nteract": {
      "version": "nteract-front-end@1.0.0"
    },
    "orig_nbformat": 4
  },
  "nbformat": 4,
  "nbformat_minor": 2
}
