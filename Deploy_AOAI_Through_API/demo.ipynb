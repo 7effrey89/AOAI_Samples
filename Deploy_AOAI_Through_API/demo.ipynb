{
 "cells": [
  {
   "cell_type": "code",
   "execution_count": null,
   "metadata": {},
   "outputs": [],
   "source": [
    "# 1. Import the libraries\n",
    "import requests\n",
    "import json\n",
    "import subprocess\n",
    "\n",
    "# 2. Add your Azure OpenAI account details\n",
    "subscription = \"<AOAI-ACCOUNT-SUBSCRIPTION-ID>\"\n",
    "resource_group = \"<AOAI-ACCOUNT-RESOURCE-GROUP>\"\n",
    "resource_name = \"<AOAI-RESOURCE-NAME>\"\n",
    "model_deployment_name = \"<NEW-AOAI-DEPLOYMENT-NAME>\"\n",
    "registered_model_name = 'gpt-4o'\n",
    "registered_model_version = '2024-05-13'"
   ]
  },
  {
   "cell_type": "code",
   "execution_count": null,
   "metadata": {},
   "outputs": [],
   "source": [
    "# 2. Add your Azure OpenAI account details\n",
    "subscription = \"<AOAI-ACCOUNT-SUBSCRIPTION-ID>\"\n",
    "resource_group = \"<AOAI-ACCOUNT-RESOURCE-GROUP>\"\n",
    "resource_name = \"<AOAI-RESOURCE-NAME>\"\n",
    "model_deployment_name = \"<NEW-AOAI-DEPLOYMENT-NAME>\"\n",
    "registered_model_name = 'gpt-4o'\n",
    "registered_model_version = '2024-05-13'"
   ]
  },
  {
   "cell_type": "code",
   "execution_count": null,
   "metadata": {},
   "outputs": [],
   "source": [
    "# 3. Get the access token which will be passed during PUT request call.\n",
    "from azure.identity import DefaultAzureCredential, InteractiveBrowserCredential\n",
    "try:\n",
    "    credential = DefaultAzureCredential()\n",
    "    # Check if given credential can get token successfully.\n",
    "    access_token = credential.get_token(\"https://management.azure.com/.default\")\n",
    "    token = access_token.token\n",
    "except Exception as ex:\n",
    "    # Fall back to InteractiveBrowserCredential in case DefaultAzureCredential not work\n",
    "    # This will open a browser page for\n",
    "    credential = InteractiveBrowserCredential()\n",
    "    \n",
    "    \n",
    "deploy_params = {\"api-version\": \"2024-04-01-preview\"}\n",
    "deploy_headers = {\n",
    "    \"Authorization\": f\"Bearer {token}\",\n",
    "    \"Content-Type\": \"application/json\",\n",
    "}"
   ]
  },
  {
   "cell_type": "code",
   "execution_count": null,
   "metadata": {},
   "outputs": [],
   "source": [
    "# 4. Set model deployment configuration. Here capacity refers to support for `1K Tokens Per Minute (TPM)` for your deployment.\n",
    "deploy_data = {\n",
    "    \"displayName\": model_deployment_name,\n",
    "    \"properties\": {\n",
    "        \"model\": {\n",
    "            \"format\": \"OpenAI\",\n",
    "            \"name\": registered_model_name,\n",
    "            \"version\": registered_model_version\n",
    "        },\n",
    "        \"versionUpgradeOption\": \"OnceNewDefaultVersionAvailable\",\n",
    "        \"dynamicThrottlingEnabled\": \"true\",\n",
    "        \"raiPolicyName\": \"Microsoft.Default\"\n",
    "    },\n",
    "    \"sku\": {\n",
    "        \"name\": \"Standard\",\n",
    "        \"capacity\": 150\n",
    "    }\n",
    "}"
   ]
  },
  {
   "cell_type": "code",
   "execution_count": null,
   "metadata": {},
   "outputs": [],
   "source": [
    "# 4. Call the Request and Track the deployment\n",
    "\n",
    "request_url = f\"https://management.azure.com//subscriptions/{subscription}/resourceGroups/{resource_group}/providers/Microsoft.CognitiveServices/accounts/{resource_name}/deployments/{model_deployment_name}\"\n",
    "r = requests.put(   \n",
    "    request_url, \n",
    "    params=deploy_params, \n",
    "    headers=deploy_headers, \n",
    "    data=deploy_data\n",
    ")\n",
    "\n",
    "print(r.json())\n",
    "\n",
    "deploy_data = json.dumps(deploy_data)"
   ]
  }
 ],
 "metadata": {
  "language_info": {
   "name": "python"
  }
 },
 "nbformat": 4,
 "nbformat_minor": 2
}
